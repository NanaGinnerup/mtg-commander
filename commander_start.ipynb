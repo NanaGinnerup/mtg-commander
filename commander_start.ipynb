{
 "cells": [
  {
   "cell_type": "code",
   "execution_count": 1,
   "metadata": {},
   "outputs": [],
   "source": [
    "import numpy as np\n",
    "import pandas as pd\n",
    "import random\n",
    "import matplotlib.pyplot as plt"
   ]
  },
  {
   "cell_type": "code",
   "execution_count": 2,
   "metadata": {},
   "outputs": [],
   "source": [
    "def percentage_within_values(\n",
    "        result_list: list, \n",
    "        min_val: int | float = 3, \n",
    "        max_val: int | float = 4\n",
    "        ) -> float:\n",
    "    df=pd.DataFrame(result_list, columns=['count_col'])\n",
    "    within_values=df[(df['count_col']>=min_val) & (df['count_col'] <= max_val)]\n",
    "    return len(within_values)/len(df)"
   ]
  },
  {
   "cell_type": "markdown",
   "metadata": {},
   "source": [
    "## Load deck"
   ]
  },
  {
   "cell_type": "markdown",
   "metadata": {},
   "source": [
    "When exported from Archidekt, columns chosen should be: [Quantity, Name, Category, Color, Mana value] in that order. Out of deck cards should be excluded from this file"
   ]
  },
  {
   "cell_type": "code",
   "execution_count": 3,
   "metadata": {},
   "outputs": [],
   "source": [
    "def load_deck(deck_name):\n",
    "    full_deck=pd.read_csv(\n",
    "        f'decks/{deck_name}', \n",
    "        names=['Quantity', 'Name', 'Category', 'Color', 'Mana']\n",
    "        )\n",
    "    deck=full_deck[full_deck['Category']!='Commander']"
   ]
  },
  {
   "cell_type": "code",
   "execution_count": 4,
   "metadata": {},
   "outputs": [],
   "source": [
    "deck_name='felix_five_boots.csv'\n",
    "\n",
    "full_deck=pd.read_csv(\n",
    "    f'decks/{deck_name}', \n",
    "    names=['Quantity', 'Name', 'Category', 'Color', 'Mana']\n",
    "    )\n",
    "deck=full_deck[full_deck['Category']!='Commander']"
   ]
  },
  {
   "cell_type": "code",
   "execution_count": null,
   "metadata": {},
   "outputs": [],
   "source": [
    "deck[:3]"
   ]
  },
  {
   "cell_type": "code",
   "execution_count": null,
   "metadata": {},
   "outputs": [],
   "source": [
    "deck['Category'].unique()"
   ]
  },
  {
   "cell_type": "markdown",
   "metadata": {},
   "source": [
    "# Sample deck order"
   ]
  },
  {
   "cell_type": "code",
   "execution_count": 7,
   "metadata": {},
   "outputs": [],
   "source": [
    "def sample_hand(deck: pd.DataFrame, hand_size: int) -> pd.DataFrame:\n",
    "    '''\n",
    "    Sample a \n",
    "\n",
    "    Parameters:\n",
    "        deck: Deck as exported from Archidekt\n",
    "        hand_size: Number of cards to be drawn from hand\n",
    "\n",
    "    Returns:\n",
    "        A subsample of the deck with cards drawn based on hand size\n",
    "    '''\n",
    "    sampled_indexes=random.sample(\n",
    "        list(deck.index), counts=list(deck['Quantity']), k=hand_size\n",
    "        )\n",
    "    return deck.loc[sampled_indexes]\n",
    "\n",
    "def number_lands_in_hand(deck: pd.DataFrame, hand_size: int=7) -> int:\n",
    "    '''\n",
    "    Counts number of lands in hand\n",
    "\n",
    "    Parameters:\n",
    "        deck: Deck as exported from Archidekt  \n",
    "        hand_size: Number of cards to be drawn from hand\n",
    "\n",
    "        Returns:\n",
    "            Number of \n",
    "    '''\n",
    "    start_hand=sample_hand(deck, hand_size)\n",
    "    return len(start_hand[start_hand['Category']=='Land'])"
   ]
  },
  {
   "cell_type": "code",
   "execution_count": null,
   "metadata": {},
   "outputs": [],
   "source": [
    "sample_hand(deck, 7)"
   ]
  },
  {
   "cell_type": "code",
   "execution_count": 9,
   "metadata": {},
   "outputs": [],
   "source": [
    "hand_size=8\n",
    "\n",
    "test_list=[]\n",
    "n=100000\n",
    "for i in range(n):\n",
    "    test_list.append(number_lands_in_hand(deck, hand_size))"
   ]
  },
  {
   "cell_type": "code",
   "execution_count": null,
   "metadata": {},
   "outputs": [],
   "source": [
    "min_lands=3\n",
    "max_lands=4\n",
    "percentage_succesfull=100*percentage_within_values(test_list, min_lands, max_lands)\n",
    "\n",
    "\n",
    "ax = plt.subplot()\n",
    "\n",
    "ax.hist(test_list, bins=np.arange(9), rwidth=0.8, align='left')\n",
    "\n",
    "props = dict(boxstyle='round', facecolor='lightsteelblue', alpha=0.5)\n",
    "ax.text(\n",
    "    0.60, \n",
    "    0.85, \n",
    "    f'Percentage start hands\\nwith {min_lands}-{max_lands} lands = {percentage_succesfull :.2f}%',\n",
    "    transform=ax.transAxes,\n",
    "    bbox=props\n",
    "    )\n",
    "ax.set_xlabel('Number lands in start hand')\n",
    "plt.show()"
   ]
  },
  {
   "cell_type": "markdown",
   "metadata": {},
   "source": [
    "### Alternative for looping"
   ]
  },
  {
   "cell_type": "code",
   "execution_count": 12,
   "metadata": {},
   "outputs": [],
   "source": [
    "empty_df=pd.DataFrame(index=np.arange(10))"
   ]
  },
  {
   "cell_type": "code",
   "execution_count": null,
   "metadata": {},
   "outputs": [],
   "source": [
    "empty_df.apply(lambda x: number_lands_in_hand(deck))"
   ]
  },
  {
   "cell_type": "code",
   "execution_count": null,
   "metadata": {},
   "outputs": [],
   "source": [
    "empty_df"
   ]
  }
 ],
 "metadata": {
  "kernelspec": {
   "display_name": "commander.venv",
   "language": "python",
   "name": "python3"
  },
  "language_info": {
   "codemirror_mode": {
    "name": "ipython",
    "version": 3
   },
   "file_extension": ".py",
   "mimetype": "text/x-python",
   "name": "python",
   "nbconvert_exporter": "python",
   "pygments_lexer": "ipython3",
   "version": "3.12.2"
  }
 },
 "nbformat": 4,
 "nbformat_minor": 2
}
